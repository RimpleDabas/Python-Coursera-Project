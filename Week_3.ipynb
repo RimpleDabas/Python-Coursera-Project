{
 "cells": [
  {
   "cell_type": "code",
   "execution_count": 3,
   "metadata": {},
   "outputs": [],
   "source": [
    "import zipfile\n",
    "from PIL import Image\n",
    "import pytesseract\n",
    "import cv2 as cv\n",
    "import numpy as np\n",
    "# loading the face detection classifier\n",
    "face_cascade = cv.CascadeClassifier('readonly/haarcascade_frontalface_default.xml')"
   ]
  },
  {
   "cell_type": "code",
   "execution_count": 16,
   "metadata": {},
   "outputs": [],
   "source": [
    "parsed_img = {}\n",
    "with zipfile.ZipFile('small_img.zip', 'r') as archive:\n",
    "    for entry in archive.infolist():\n",
    "        with archive.open(entry) as file:\n",
    "            image = Image.open(file).convert('RGB')\n",
    "            parsed_img[entry.filename] = {'pil_img':image}"
   ]
  },
  {
   "cell_type": "code",
   "execution_count": 24,
   "metadata": {},
   "outputs": [],
   "source": [
    "images_dict = {}\n",
    "archive = zipfile.ZipFile('small_img.zip', 'r') \n",
    "for each in archive.infolist():\n",
    "    #print(each.filename)\n",
    "    name = each.filename\n",
    "    f = archive.open(each)\n",
    "    get_image = Image.open(f)\n",
    "    image = get_image.convert('RGB')\n",
    "    images_dict[name] = image"
   ]
  }
 ],
 "metadata": {
  "kernelspec": {
   "display_name": "base",
   "language": "python",
   "name": "python3"
  },
  "language_info": {
   "codemirror_mode": {
    "name": "ipython",
    "version": 3
   },
   "file_extension": ".py",
   "mimetype": "text/x-python",
   "name": "python",
   "nbconvert_exporter": "python",
   "pygments_lexer": "ipython3",
   "version": "3.10.9"
  }
 },
 "nbformat": 4,
 "nbformat_minor": 2
}
